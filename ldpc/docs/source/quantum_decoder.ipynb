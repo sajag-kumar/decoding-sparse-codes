{
 "cells": [
  {
   "cell_type": "markdown",
   "metadata": {},
   "source": [
    "# Decoders for quantum error correction"
   ]
  },
  {
   "cell_type": "markdown",
   "metadata": {},
   "source": [
    "# Belief propagation + ordered statistics decoding (BP+OSD)\n",
    "\n",
    "The belief propagation + ordered statistics decoder (BP+OSD) is a modified version of BP that works well for quantum LDPC codes. An advantage of the BP+OSD decoder is that it always returns a decoding that satisfies the syndrome equation.\n",
    "\n",
    "The `LDPC` implementation of BP+OSD inherits from the `ldpc.BpDecoder` class. The setup is therefore very similar, with only two extra parameters to specify the `osd_method` and the `osd_order`. The `LDPCv2` package now includes an implementation of the fast-solve algorithm for `OSD_0`, which terminates the Gaussian elimination as soon as the syndrome becomes linearly dependent on the columns elimianted up to that point.\n",
    "\n",
    "An example is below:"
   ]
  },
  {
   "cell_type": "code",
   "execution_count": 6,
   "metadata": {},
   "outputs": [
    {
     "name": "stdout",
     "output_type": "stream",
     "text": [
      "Syndrome: [1 0 1 1 1]\n",
      "Decoding: [0 0 0 0 0 0 0 0 0 0 0 0 0 0 0 0 0 0 0 0 0 0 1 0 0 0 0 0 0 0 0]\n",
      "Decoding syndrome: [1 0 1 1 1]\n"
     ]
    }
   ],
   "source": [
    "import numpy as np\n",
    "import ldpc.codes\n",
    "from ldpc import BpOsdDecoder\n",
    "\n",
    "H = ldpc.codes.hamming_code(5)\n",
    "\n",
    "## The \n",
    "bp_osd = BpOsdDecoder(\n",
    "            H,\n",
    "            error_rate = 0.1,\n",
    "            bp_method = 'product_sum',\n",
    "            max_iter = 7,\n",
    "            schedule = 'serial',\n",
    "            osd_method = 'osd_cs', #set to OSD_0 for fast solve\n",
    "            osd_order = 2\n",
    "        )\n",
    "\n",
    "syndrome = np.random.randint(size=H.shape[0], low=0, high=2).astype(np.uint8)\n",
    "\n",
    "print(f\"Syndrome: {syndrome}\")\n",
    "decoding = bp_osd.decode(syndrome)\n",
    "print(f\"Decoding: {decoding}\")\n",
    "decoding_syndrome = H@decoding % 2\n",
    "print(f\"Decoding syndrome: {decoding_syndrome}\")\n"
   ]
  },
  {
   "cell_type": "markdown",
   "metadata": {},
   "source": [
    "# Belief propagation + localized statistics decoding (BP+LSD)\n",
    "\n",
    "The belief propagation + localized statistics decoder (BP+LSD) is a parallel inversion-based decoder for quantum LDPC codes (see our paper https://arxiv.org/abs/2406.???). Similar to OSD, the LSD algorithm solves the decoding problem through matrix inversion. However, matrix inversion is performed on local error clusters rather than over the entire parity check matrix. This considerably speeds up decoding relative to BP+OSD for large parity check matrices. Higher-order reprocessing, using either the 'combination sweep' or 'exhaustive' strategy can also be performed locally for each cluster.\n",
    "\n",
    "An advantage of LSD (over OSD) is that the number of bp iterations (`BpDecoder.max_iter`) can be set to a small number (experiment with this, but we find ~30 usually suffices) without reducing runtime. The decoder then relies more on the post-processor, but this does not matter as the runtime of the LSD algorithm scales (roughly) with the error rate rather than the size of the parity check matrix (as is the case for BP+OSD).\n",
    "\n",
    "The `LDPC` implementation of BP+LSD inherits from the `ldpc.BpDecoder` class. The setup is therefore very similar, with only two extra parameters to specify the `lsd_method` and the `lsd_order`. Note that for higher-order reprocessing, `lsd_cs-w` and `osd_cs-w` are not entirely equivalent, so expect some differences. \n",
    "\n",
    "An example is below:"
   ]
  },
  {
   "cell_type": "code",
   "execution_count": 7,
   "metadata": {},
   "outputs": [
    {
     "name": "stdout",
     "output_type": "stream",
     "text": [
      "Syndrome: [0 1 0 1 1]\n",
      "Decoding: [0 0 0 0 0 0 0 0 0 0 1 0 0 0 0 0 0 0 0 0 0 0 0 0 0 0 0 0 0 0 0]\n",
      "Decoding syndrome: [0 1 0 1 1]\n"
     ]
    }
   ],
   "source": [
    "import numpy as np\n",
    "import ldpc.codes\n",
    "from ldpc.bplsd_decoder import BpLsdDecoder \n",
    "\n",
    "H = ldpc.codes.hamming_code(5)\n",
    "\n",
    "## The \n",
    "bp_osd = BpLsdDecoder(\n",
    "            H,\n",
    "            error_rate = 0.1,\n",
    "            bp_method = 'product_sum',\n",
    "            max_iter = 2,\n",
    "            schedule = 'serial',\n",
    "            osd_method = 'lsd_cs', \n",
    "            osd_order = 2\n",
    "        )\n",
    "\n",
    "syndrome = np.random.randint(size=H.shape[0], low=0, high=2).astype(np.uint8)\n",
    "\n",
    "print(f\"Syndrome: {syndrome}\")\n",
    "decoding = bp_osd.decode(syndrome)\n",
    "print(f\"Decoding: {decoding}\")\n",
    "decoding_syndrome = H@decoding % 2\n",
    "print(f\"Decoding syndrome: {decoding_syndrome}\")"
   ]
  },
  {
   "cell_type": "markdown",
   "metadata": {},
   "source": [
    "# Belief-find\n",
    "\n",
    "The belief propagation + union-find decoder (belief-find) is an alternative to BP+OSD/LSD for decoding quantum LDPC codes. Belief-find first attempts to solve the decoding using belief propagation. If this fails, a union-find decoder is run as a post-processor using the output of BP to guide cluster growth. The `LDPC` package implements two versions of belief-find:\n",
    "\n",
    "1) **Peeling belief-find**. This approach uses a peeling decoder to solve the local decoding problem in each cluster. Peeling uinon-find is limited to decoding codes that have point like syndromes. e.g, the surface and toric codes. The peeling version of union-find decoder was first proposed by Delfosse & Nickerson in (https://arxiv.org/abs/1709.06218). Peeling belief-find was first proposed and implemented by Oscar Higgott (https://arxiv.org/abs/2203.04948).\n",
    "\n",
    "2) **Cluster-inversion belief-find**. This approach solves the local decoding problem on each cluster using matrix inverison. Cluster-inversion union find can be applied to any quantum LDPC code. Matrix inversion find was first proposed by Delfosse et al. (https://arxiv.org/abs/2103.08049), and later improved by Berent et al. (https://arxiv.org/abs/2209.01180). \n",
    "\n",
    "The `LDPC` implementation of belief-find inherits from the `ldpc.BpDecoder` class.\n",
    "\n",
    "An example of the cluster-inversion belief-find decoder is below:"
   ]
  },
  {
   "cell_type": "code",
   "execution_count": 8,
   "metadata": {},
   "outputs": [
    {
     "name": "stdout",
     "output_type": "stream",
     "text": [
      "Syndrome: [0 0 1 0 1]\n",
      "Decoding: [0 0 0 0 1 0 0 0 0 0 0 0 0 0 0 0 0 0 0 0 0 0 0 0 0 0 0 0 0 0 0]\n",
      "Decoding syndrome: [0 0 1 0 1]\n"
     ]
    }
   ],
   "source": [
    "import numpy as np\n",
    "import ldpc.codes\n",
    "from ldpc import BeliefFindDecoder\n",
    "\n",
    "H = ldpc.codes.hamming_code(5)\n",
    "\n",
    "## The \n",
    "bf = BeliefFindDecoder(\n",
    "            H,\n",
    "            error_rate = 0.1,\n",
    "            bp_method = 'product_sum',\n",
    "            max_iter = 7,\n",
    "            schedule = 'serial',\n",
    "            uf_method = \"inversion\", # Union-find clusters are solved by matrix inversion\n",
    "            bits_per_step = 1 ## this is the number of bits by which clusters are expanded in each growth step \n",
    "        )\n",
    "\n",
    "syndrome = np.random.randint(size=H.shape[0], low=0, high=2).astype(np.uint8)\n",
    "\n",
    "print(f\"Syndrome: {syndrome}\")\n",
    "decoding = bf.decode(syndrome)\n",
    "print(f\"Decoding: {decoding}\")\n",
    "decoding_syndrome = H@decoding % 2\n",
    "print(f\"Decoding syndrome: {decoding_syndrome}\")"
   ]
  },
  {
   "cell_type": "markdown",
   "metadata": {},
   "source": [
    "The peeling version of belief-find can be activated by setting `uf_method=\"peeling\"`. This method only works for parity check matrix that yield point-like syndromes. An example of using peeling belief-find on the repetition code is show below:"
   ]
  },
  {
   "cell_type": "code",
   "execution_count": 9,
   "metadata": {},
   "outputs": [],
   "source": [
    "import numpy as np\n",
    "import ldpc.codes\n",
    "from ldpc import BeliefFindDecoder\n",
    "\n",
    "H = ldpc.codes.ring_code(15)\n",
    "\n",
    "## The \n",
    "bf = BeliefFindDecoder(\n",
    "            H,\n",
    "            error_rate = 0.1,\n",
    "            bp_method = 'product_sum',\n",
    "            max_iter = 7,\n",
    "            schedule = 'serial',\n",
    "            uf_method = \"peeling\", # If uf_method is set to False, union-find clusters are solved using a peeling decoder\n",
    "            bits_per_step = 1 ## this is the number of bits by which clusters are expanded in each growth step \n",
    "        )\n",
    "\n"
   ]
  },
  {
   "cell_type": "code",
   "execution_count": 10,
   "metadata": {},
   "outputs": [
    {
     "name": "stdout",
     "output_type": "stream",
     "text": [
      "Decoding: [1 0 1 0 0 0 1 0 0 1 1 0 0 1 0]\n",
      "Decoding syndrome: [1 1 1 0 0 1 1 0 1 0 1 0 1 1 1]\n"
     ]
    }
   ],
   "source": [
    "error = np.random.randint(size=H.shape[0], low=0, high=2).astype(np.uint8)\n",
    "syndrome = H@error % 2\n",
    "\n",
    "decoding = bf.decode(syndrome)\n",
    "print(f\"Decoding: {decoding}\")\n",
    "decoding_syndrome = H@decoding % 2\n",
    "print(f\"Decoding syndrome: {decoding_syndrome}\")"
   ]
  }
 ],
 "metadata": {
  "kernelspec": {
   "display_name": "ldpc",
   "language": "python",
   "name": "python3"
  },
  "language_info": {
   "codemirror_mode": {
    "name": "ipython",
    "version": 3
   },
   "file_extension": ".py",
   "mimetype": "text/x-python",
   "name": "python",
   "nbconvert_exporter": "python",
   "pygments_lexer": "ipython3",
   "version": "3.10.13"
  }
 },
 "nbformat": 4,
 "nbformat_minor": 2
}
