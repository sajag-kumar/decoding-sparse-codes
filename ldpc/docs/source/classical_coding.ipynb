{
 "cells": [
  {
   "cell_type": "markdown",
   "metadata": {},
   "source": [
    "# Binary Linear Codes\n",
    "\n",
    "In LDPC, binary linear error correction codes are represented in terms of their parity check matrix stored in `scipy.sparse` format. As an example, the parity check matrix for the repetition code can be loaded from the `ldpc.codes` submodule as follows:"
   ]
  },
  {
   "cell_type": "code",
   "execution_count": 6,
   "metadata": {},
   "outputs": [
    {
     "name": "stdout",
     "output_type": "stream",
     "text": [
      "  (0, 0)\t1\n",
      "  (0, 1)\t1\n",
      "  (1, 1)\t1\n",
      "  (1, 2)\t1\n",
      "  (2, 2)\t1\n",
      "  (2, 3)\t1\n",
      "  (3, 3)\t1\n",
      "  (3, 4)\t1\n"
     ]
    }
   ],
   "source": [
    "import numpy as np\n",
    "import ldpc.codes\n",
    "import ldpc.code_util\n",
    "n=5 #specifies the lenght of the repetition code\n",
    "H=ldpc.codes.rep_code(n) #returns the repetition code parity check matrix\n",
    "print(H)"
   ]
  },
  {
   "cell_type": "markdown",
   "metadata": {},
   "source": [
    "The above print statement displays a list of the coordinates for the nonzero elements of the parity check matrix. To print the matrix in a more readable form, the `np.ndarray.toarray()` method can be used."
   ]
  },
  {
   "cell_type": "code",
   "execution_count": 7,
   "metadata": {},
   "outputs": [
    {
     "name": "stdout",
     "output_type": "stream",
     "text": [
      "[[1 1 0 0 0]\n",
      " [0 1 1 0 0]\n",
      " [0 0 1 1 0]\n",
      " [0 0 0 1 1]]\n"
     ]
    }
   ],
   "source": [
    "print(H.toarray())"
   ]
  },
  {
   "cell_type": "markdown",
   "metadata": {},
   "source": [
    "## Computing code properties\n",
    "To compute the [n,k,d] code parameters we can use functions from the `ldpc.mod2` and `ldpc.code_util` submodules. Below is an example showing how to calculate the code parameters of the Hamming code:"
   ]
  },
  {
   "cell_type": "code",
   "execution_count": 8,
   "metadata": {},
   "outputs": [
    {
     "name": "stdout",
     "output_type": "stream",
     "text": [
      "[[0 0 0 1 1 1 1]\n",
      " [0 1 1 0 0 1 1]\n",
      " [1 0 1 0 1 0 1]]\n"
     ]
    }
   ],
   "source": [
    "H = ldpc.codes.hamming_code(3)\n",
    "print(H.toarray())"
   ]
  },
  {
   "cell_type": "markdown",
   "metadata": {},
   "source": [
    "### Number of physical bits\n",
    "\n",
    "The number of physical bits $n$ is simply the number of columns in the parity check matrix:"
   ]
  },
  {
   "cell_type": "code",
   "execution_count": 9,
   "metadata": {},
   "outputs": [
    {
     "name": "stdout",
     "output_type": "stream",
     "text": [
      "Number of physical bits, n = 7\n"
     ]
    }
   ],
   "source": [
    "n = H.shape[1]\n",
    "print(f\"Number of physical bits, n = {n}\")"
   ]
  },
  {
   "cell_type": "markdown",
   "metadata": {},
   "source": [
    "### Code dimension (number of logical bits)\n",
    "\n",
    "The number of logical bits $k$ can be obtained using the `ldpc.code_util.compute_code_dimension` function."
   ]
  },
  {
   "cell_type": "code",
   "execution_count": 10,
   "metadata": {},
   "outputs": [
    {
     "name": "stdout",
     "output_type": "stream",
     "text": [
      "Number of logical bits, k = 4\n"
     ]
    }
   ],
   "source": [
    "k = ldpc.code_util.compute_code_dimension(H)\n",
    "print(f\"Number of logical bits, k = {k}\")"
   ]
  },
  {
   "cell_type": "markdown",
   "metadata": {},
   "source": [
    "### Code distance\n",
    "\n",
    "An estimate of the code distance $d$ can be obtained using the `ldpc.code_util.estimate_code_distance` function. This function first computes the kernel, then iterates over random linear combinations of the rows to find low weight codewords. By default, the function runs for $0.025s$. This can be change by setting the `timeout_seconds` parameter."
   ]
  },
  {
   "cell_type": "code",
   "execution_count": 11,
   "metadata": {},
   "outputs": [
    {
     "name": "stdout",
     "output_type": "stream",
     "text": [
      "Code distance estimate, d <= 3 (no. codewords sampled: 390178)\n"
     ]
    }
   ],
   "source": [
    "d, number_code_words_sampled, lowest_weight_codewords = ldpc.code_util.estimate_code_distance(H, timeout_seconds = 0.1)\n",
    "print(f\"Code distance estimate, d <= {d} (no. codewords sampled: {number_code_words_sampled})\")"
   ]
  },
  {
   "cell_type": "markdown",
   "metadata": {},
   "source": [
    "From the above, we see that the Hamming code has $n=7$ physical bits, $k=4$ logical bits, and $d<=3$. The $[n,k,d]$ parameters can be calculated more directly for any parity check matrix using the `ldpc.code_util.compute_code_parameters` function. For example, we can compute the code parameters of the rank $5$ Hamming code as follows:"
   ]
  },
  {
   "cell_type": "code",
   "execution_count": 12,
   "metadata": {},
   "outputs": [
    {
     "name": "stdout",
     "output_type": "stream",
     "text": [
      "Code parameters: [n = 31, k = 26, d <= 3]\n"
     ]
    }
   ],
   "source": [
    "H = ldpc.codes.hamming_code(5) # Rank 5 Hamming Code\n",
    "n, k, d_estimate = ldpc.code_util.compute_code_parameters(H)\n",
    "\n",
    "print(f\"Code parameters: [n = {n}, k = {k}, d <= {d_estimate}]\")"
   ]
  },
  {
   "cell_type": "markdown",
   "metadata": {},
   "source": [
    "### Code parameter calculation: LDPC code example"
   ]
  },
  {
   "cell_type": "code",
   "execution_count": 13,
   "metadata": {},
   "outputs": [
    {
     "name": "stdout",
     "output_type": "stream",
     "text": [
      "Code parameters: [n = 14, k = 5, d <= 5]\n"
     ]
    }
   ],
   "source": [
    "import ldpc.code_util\n",
    "import numpy as np\n",
    "H = np.array([[0, 0, 0, 1, 0, 0, 0, 1, 0, 0, 1, 0, 0, 0],\n",
    "       [0, 0, 0, 0, 0, 0, 0, 0, 0, 0, 0, 1, 1, 0],\n",
    "       [1, 0, 0, 0, 0, 0, 0, 0, 0, 1, 0, 0, 1, 1],\n",
    "       [1, 0, 0, 0, 0, 1, 0, 1, 0, 0, 0, 0, 0, 0],\n",
    "       [0, 0, 1, 0, 0, 1, 0, 0, 0, 1, 1, 0, 0, 0],\n",
    "       [0, 0, 0, 0, 0, 1, 1, 0, 0, 1, 1, 1, 0, 0],\n",
    "       [1, 0, 0, 0, 1, 0, 1, 0, 0, 0, 1, 0, 0, 0],\n",
    "       [1, 0, 0, 0, 0, 0, 0, 0, 1, 0, 1, 0, 0, 0],\n",
    "       [0, 1, 0, 0, 0, 0, 0, 0, 1, 0, 1, 1, 0, 0]])\n",
    "\n",
    "n, k, d_estimate = ldpc.code_util.compute_code_parameters(H)\n",
    "print(f\"Code parameters: [n = {n}, k = {k}, d <= {d_estimate}]\")"
   ]
  },
  {
   "cell_type": "markdown",
   "metadata": {},
   "source": [
    "## Encoding data with the generator matrix\n",
    "\n",
    "The generator matrix $G$ maps unencoded data to encoded codewords. The generator matrix can be obtained from a parity check matrix using the `ldpc.code_util.construct_generator_matrix` function. For example, the generator matrix for the Hamming code is computed as follows:"
   ]
  },
  {
   "cell_type": "code",
   "execution_count": 14,
   "metadata": {},
   "outputs": [
    {
     "data": {
      "text/plain": [
       "array([[1, 1, 1, 0, 0, 0, 0],\n",
       "       [0, 1, 1, 1, 1, 0, 0],\n",
       "       [0, 1, 0, 1, 0, 1, 0],\n",
       "       [0, 0, 1, 1, 0, 0, 1]], dtype=uint8)"
      ]
     },
     "execution_count": 14,
     "metadata": {},
     "output_type": "execute_result"
    }
   ],
   "source": [
    "import numpy as np\n",
    "import ldpc.codes\n",
    "import ldpc.code_util\n",
    "\n",
    "H = ldpc.codes.hamming_code(3)\n",
    "G = ldpc.code_util.construct_generator_matrix(H)\n",
    "G.toarray()"
   ]
  },
  {
   "cell_type": "markdown",
   "metadata": {},
   "source": [
    "The generator matrix always satisfies the condition $H\\cdot G^T = 0$. i.e,"
   ]
  },
  {
   "cell_type": "code",
   "execution_count": 15,
   "metadata": {},
   "outputs": [
    {
     "data": {
      "text/plain": [
       "array([[0, 0, 0, 0],\n",
       "       [0, 0, 0, 0],\n",
       "       [0, 0, 0, 0]], dtype=uint8)"
      ]
     },
     "execution_count": 15,
     "metadata": {},
     "output_type": "execute_result"
    }
   ],
   "source": [
    "temp = H@G.T\n",
    "temp.data = temp.data % 2\n",
    "temp.toarray()"
   ]
  },
  {
   "cell_type": "markdown",
   "metadata": {},
   "source": [
    "A $k$-bit message $b$ can be encoded into a $n$-bit codeword $c$ by multiplying by the generator matrix:\n",
    "\n",
    "$$ c = G^T\\cdot b$$"
   ]
  },
  {
   "cell_type": "markdown",
   "metadata": {},
   "source": [
    "For example, the $4$-bit message $b=[1,0,1,1]$ can be encoded into a $7$-bit codeword $c$ as follows:"
   ]
  },
  {
   "cell_type": "code",
   "execution_count": 16,
   "metadata": {},
   "outputs": [
    {
     "data": {
      "text/plain": [
       "array([1, 0, 0, 0, 0, 1, 1])"
      ]
     },
     "execution_count": 16,
     "metadata": {},
     "output_type": "execute_result"
    }
   ],
   "source": [
    "b = np.array([1,0,1,1])\n",
    "\n",
    "c = G.T@b % 2\n",
    "c"
   ]
  },
  {
   "cell_type": "markdown",
   "metadata": {},
   "source": [
    "We can verify that $c$ is a valid codeword by multiplying by the parity check matrix:"
   ]
  },
  {
   "cell_type": "code",
   "execution_count": 17,
   "metadata": {},
   "outputs": [
    {
     "data": {
      "text/plain": [
       "array([0, 0, 0])"
      ]
     },
     "execution_count": 17,
     "metadata": {},
     "output_type": "execute_result"
    }
   ],
   "source": [
    "H@c % 2"
   ]
  }
 ],
 "metadata": {
  "interpreter": {
   "hash": "3b13851432b22d6f1e5694c9da7f80ec6c6b2b7f955aecf4f28cb697779c3947"
  },
  "kernelspec": {
   "display_name": "Python 3.7.11 64-bit ('ldpc': conda)",
   "name": "python3"
  },
  "language_info": {
   "codemirror_mode": {
    "name": "ipython",
    "version": 3
   },
   "file_extension": ".py",
   "mimetype": "text/x-python",
   "name": "python",
   "nbconvert_exporter": "python",
   "pygments_lexer": "ipython3",
   "version": "3.10.8"
  }
 },
 "nbformat": 4,
 "nbformat_minor": 4
}
