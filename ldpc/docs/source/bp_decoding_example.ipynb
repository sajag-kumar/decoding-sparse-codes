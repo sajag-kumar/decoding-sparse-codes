{
 "cells": [
  {
   "cell_type": "markdown",
   "metadata": {},
   "source": [
    "# Belief propagation (BP) decoding\n",
    "\n",
    "To decode using belief propagation, first load an instance of the `ldpc.BpDecoder` class.\n"
   ]
  },
  {
   "cell_type": "code",
   "execution_count": 1,
   "metadata": {},
   "outputs": [],
   "source": [
    "import numpy as np\n",
    "import ldpc.codes\n",
    "from ldpc import BpDecoder\n",
    "\n",
    "H=ldpc.codes.rep_code(3) #parity check matrix for the length-3 repetition code\n",
    "n=H.shape[1] #the codeword length\n",
    "\n",
    "bpd = BpDecoder(\n",
    "    H, #the parity check matrix\n",
    "    error_rate=0.1, # the error rate on each bit\n",
    "    max_iter=n, #the maximum iteration depth for BP\n",
    "    bp_method=\"product_sum\", #BP method. The other option is `minimum_sum'\n",
    ")"
   ]
  },
  {
   "cell_type": "markdown",
   "metadata": {},
   "source": [
    "## Received vector decoding\n",
    "\n",
    "Given a corrupted codeword, the `bp_decoder.decode` will provide an estimate of its unerrored form. For example, consider the case where we are encoding via a three-bit repetition code:"
   ]
  },
  {
   "cell_type": "code",
   "execution_count": 2,
   "metadata": {},
   "outputs": [],
   "source": [
    "codeword=np.array([1,1,1])"
   ]
  },
  {
   "cell_type": "markdown",
   "metadata": {},
   "source": [
    "If the above codeword is subject to an error on its first bit the received vector is given by"
   ]
  },
  {
   "cell_type": "code",
   "execution_count": 3,
   "metadata": {},
   "outputs": [],
   "source": [
    "received_vector=np.array([0,1,1])"
   ]
  },
  {
   "cell_type": "markdown",
   "metadata": {},
   "source": [
    "The above vector can be corrected using the `bp_decoder.decode` as follows:"
   ]
  },
  {
   "cell_type": "code",
   "execution_count": 4,
   "metadata": {},
   "outputs": [
    {
     "name": "stdout",
     "output_type": "stream",
     "text": [
      "[1 1 1]\n"
     ]
    }
   ],
   "source": [
    "decoded_codeword=bpd.decode(received_vector)\n",
    "\n",
    "print(decoded_codeword)\n"
   ]
  },
  {
   "cell_type": "markdown",
   "metadata": {},
   "source": [
    "## Syndrome decoding\n",
    "In syndrome decoding, the error syndrome is input to `bp_decoder.decode` function. This is useful in settings where the codeword cannot be directly measured. eg. in quantum error correction. The output of the syndrome recovery is an estimate of the error."
   ]
  },
  {
   "cell_type": "code",
   "execution_count": 5,
   "metadata": {},
   "outputs": [
    {
     "name": "stdout",
     "output_type": "stream",
     "text": [
      "Error: [0 1 0]\n",
      "Syndrome: [1 1]\n",
      "Decoding: [0 1 0]\n"
     ]
    }
   ],
   "source": [
    "H=ldpc.codes.rep_code(3) #parity check matrix for the length-3 repetition code\n",
    "n=H.shape[1] #the codeword length\n",
    "\n",
    "bpd = BpDecoder(\n",
    "    H, #the parity check matrix\n",
    "    error_rate=0.1, # the error rate on each bit\n",
    "    max_iter=n, #the maximum iteration depth for BP\n",
    "    bp_method=\"product_sum\", #BP method. The other option is `minimum_sum'\n",
    ")\n",
    "\n",
    "error = np.array([0,1,0])\n",
    "syndrome = H@error %2 # the syndrome of the error\n",
    "\n",
    "decoding=bpd.decode(syndrome)\n",
    "\n",
    "print(f\"Error: {error}\")\n",
    "print(f\"Syndrome: {syndrome}\")\n",
    "print(f\"Decoding: {decoding}\")"
   ]
  },
  {
   "cell_type": "markdown",
   "metadata": {},
   "source": [
    "## Assymetric error channels\n",
    "If the code bits are subject to different error rates, an `error_channel` vector can be provided instead of the error rate. The error channel specifies the probability of an error on each code bit. For example, consider the case below"
   ]
  },
  {
   "cell_type": "code",
   "execution_count": 6,
   "metadata": {},
   "outputs": [
    {
     "name": "stdout",
     "output_type": "stream",
     "text": [
      "Error: [1 0 1]\n",
      "Syndrome: [1 1]\n",
      "Decoding: [1 0 1]\n"
     ]
    }
   ],
   "source": [
    "bpd=BpDecoder(\n",
    "    H, \n",
    "    max_iter=n,\n",
    "    bp_method=\"product_sum\", \n",
    "    error_channel=[0.1,0,0.1] #channel probability probabilities. Will overide error rate.\n",
    ")\n",
    "\n",
    "error=np.array([1,0,1])\n",
    "syndrome=H@error%2\n",
    "decoding=bpd.decode(syndrome)\n",
    "print(f\"Error: {error}\")\n",
    "print(f\"Syndrome: {syndrome}\")\n",
    "print(f\"Decoding: {decoding}\")"
   ]
  },
  {
   "cell_type": "markdown",
   "metadata": {},
   "source": [
    "## Example: error correction over the binary symmetric channel"
   ]
  },
  {
   "cell_type": "code",
   "execution_count": 7,
   "metadata": {},
   "outputs": [
    {
     "name": "stdout",
     "output_type": "stream",
     "text": [
      "Error: [1 0 1 0 0 0 1 1 1 1 0 1 0]\n",
      "Syndrome: [1 1 1 0 0 1 0 0 0 1 1 1]\n",
      "Decoding: [0 1 0 1 1 1 0 0 0 0 1 0 1]\n",
      "\n",
      "Error: [0 0 0 0 0 0 0 0 1 0 0 0 0]\n",
      "Syndrome: [0 0 0 0 0 0 0 1 1 0 0 0]\n",
      "Decoding: [0 0 0 0 0 0 0 0 1 0 0 0 0]\n",
      "\n",
      "Error: [0 0 0 0 1 0 1 1 1 1 1 0 1]\n",
      "Syndrome: [0 0 0 1 1 1 0 0 0 0 1 1]\n",
      "Decoding: [1 1 1 1 0 1 0 0 0 0 0 1 0]\n",
      "\n",
      "Error: [0 0 1 0 0 0 0 0 1 1 1 0 1]\n",
      "Syndrome: [0 1 1 0 0 0 0 1 0 0 1 1]\n",
      "Decoding: [0 0 1 0 0 0 0 0 1 1 1 0 1]\n",
      "\n",
      "Error: [0 0 1 0 0 0 1 1 0 0 0 0 1]\n",
      "Syndrome: [0 1 1 0 0 1 0 1 0 0 0 1]\n",
      "Decoding: [0 0 1 0 0 0 1 1 0 0 0 0 1]\n",
      "\n"
     ]
    }
   ],
   "source": [
    "import numpy as np\n",
    "from ldpc.codes import rep_code\n",
    "from ldpc import BpDecoder\n",
    "\n",
    "n=13\n",
    "error_rate=0.3\n",
    "runs=5\n",
    "H=rep_code(n)\n",
    "\n",
    "#BP decoder class. Make sure this is defined outside the loop\n",
    "bpd=BpDecoder(H,error_rate=error_rate,max_iter=n,bp_method=\"product_sum\")\n",
    "error=np.zeros(n).astype(int) #error vector\n",
    "\n",
    "for _ in range(runs):\n",
    "    for i in range(n):\n",
    "        if np.random.random()<error_rate:\n",
    "            error[i]=1\n",
    "        else: error[i]=0\n",
    "    syndrome=H@error %2 #calculates the error syndrome\n",
    "    print(f\"Error: {error}\")\n",
    "    print(f\"Syndrome: {syndrome}\")\n",
    "    decoding=bpd.decode(syndrome)\n",
    "    print(f\"Decoding: {decoding}\\n\")"
   ]
  },
  {
   "cell_type": "markdown",
   "metadata": {},
   "source": [
    "## Serial or Parallel Schedules\n",
    "\n",
    "LDPCv2 has the option to switch between 'parallel' and 'serial' deocoding schedules. The default option is the parallel schedule. Serial scheduling can lead to better convergence in certain circumstances. Serial scheduling can be activated as follows:"
   ]
  },
  {
   "cell_type": "code",
   "execution_count": 8,
   "metadata": {},
   "outputs": [
    {
     "name": "stdout",
     "output_type": "stream",
     "text": [
      "Error: [0 1 0]\n",
      "Syndrome: [1 1]\n",
      "Decoding: [0 1 0]\n"
     ]
    }
   ],
   "source": [
    "H=ldpc.codes.rep_code(3) #parity check matrix for the length-3 repetition code\n",
    "n=H.shape[1] #the codeword length\n",
    "\n",
    "bpd = BpDecoder(\n",
    "    H, #the parity check matrix\n",
    "    error_rate=0.1, # the error rate on each bit\n",
    "    max_iter=n, #the maximum iteration depth for BP\n",
    "    bp_method=\"product_sum\", #BP method. The other option is `minimum_sum',\n",
    "    schedule = \"serial\" # the BP schedule\n",
    ")\n",
    "\n",
    "error = np.array([0,1,0])\n",
    "syndrome = H@error %2 # the syndrome of the error\n",
    "\n",
    "decoding=bpd.decode(syndrome)\n",
    "\n",
    "print(f\"Error: {error}\")\n",
    "print(f\"Syndrome: {syndrome}\")\n",
    "print(f\"Decoding: {decoding}\")"
   ]
  },
  {
   "cell_type": "markdown",
   "metadata": {},
   "source": [
    "## Monte-Carlo Simulation Class\n",
    "\n",
    "The `ldpc.monte_carlo_simulation.MonteCarloBscSimulation` provides a convenient way of testing the performance of binary linear codes over the binary symmetric channel."
   ]
  },
  {
   "cell_type": "code",
   "execution_count": 8,
   "metadata": {},
   "outputs": [
    {
     "name": "stdout",
     "output_type": "stream",
     "text": [
      "[n=14, k=5, d=5]\n"
     ]
    },
    {
     "data": {
      "text/plain": [
       "{'logical_error_rate': 0.0019,\n",
       " 'logical_error_rate_eb': 0.0004354756020720334,\n",
       " 'error_rate': 0.01,\n",
       " 'run_count': 10000,\n",
       " 'fail_count': 19}"
      ]
     },
     "execution_count": 8,
     "metadata": {},
     "output_type": "execute_result"
    }
   ],
   "source": [
    "import numpy as np\n",
    "import ldpc.codes\n",
    "from ldpc import BpDecoder\n",
    "from ldpc.monte_carlo_simulation import MonteCarloBscSimulation\n",
    "import ldpc.code_util\n",
    "\n",
    "H = np.array([[0, 0, 0, 1, 0, 0, 0, 1, 0, 0, 1, 0, 0, 0],\n",
    "       [0, 0, 0, 0, 0, 0, 0, 0, 0, 0, 0, 1, 1, 0],\n",
    "       [1, 0, 0, 0, 0, 0, 0, 0, 0, 1, 0, 0, 1, 1],\n",
    "       [1, 0, 0, 0, 0, 1, 0, 1, 0, 0, 0, 0, 0, 0],\n",
    "       [0, 0, 1, 0, 0, 1, 0, 0, 0, 1, 1, 0, 0, 0],\n",
    "       [0, 0, 0, 0, 0, 1, 1, 0, 0, 1, 1, 1, 0, 0],\n",
    "       [1, 0, 0, 0, 1, 0, 1, 0, 0, 0, 1, 0, 0, 0],\n",
    "       [1, 0, 0, 0, 0, 0, 0, 0, 1, 0, 1, 0, 0, 0],\n",
    "       [0, 1, 0, 0, 0, 0, 0, 0, 1, 0, 1, 1, 0, 0]])\n",
    "\n",
    "n,k,d = ldpc.code_util.compute_code_parameters(H)\n",
    "\n",
    "print(f\"[n={n}, k={k}, d={d}]\")\n",
    "\n",
    "error_rate = 0.01\n",
    "dec = BpDecoder(H, error_rate=error_rate, max_iter = 0, bp_method=\"minimum_sum\")\n",
    "mc_sim = MonteCarloBscSimulation(H, error_rate = error_rate, target_run_count=10000, Decoder = dec, tqdm_disable=True)\n",
    "mc_sim.run()"
   ]
  },
  {
   "cell_type": "code",
   "execution_count": null,
   "metadata": {},
   "outputs": [],
   "source": []
  }
 ],
 "metadata": {
  "interpreter": {
   "hash": "3b13851432b22d6f1e5694c9da7f80ec6c6b2b7f955aecf4f28cb697779c3947"
  },
  "kernelspec": {
   "display_name": "Python 3.7.11 64-bit ('ldpc': conda)",
   "name": "python3"
  },
  "language_info": {
   "codemirror_mode": {
    "name": "ipython",
    "version": 3
   },
   "file_extension": ".py",
   "mimetype": "text/x-python",
   "name": "python",
   "nbconvert_exporter": "python",
   "pygments_lexer": "ipython3",
   "version": "3.10.8"
  }
 },
 "nbformat": 4,
 "nbformat_minor": 4
}
