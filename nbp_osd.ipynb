{
 "cells": [
  {
   "cell_type": "code",
   "execution_count": 3,
   "metadata": {},
   "outputs": [],
   "source": [
    "import torch\n",
    "import torch.nn as nn\n",
    "import os\n",
    "import stim\n",
    "import numpy as np\n",
    "from tqdm import tqdm\n",
    "from decoders.tensor_tools import DEM_to_matrices \n",
    "from decoders import Nbp"
   ]
  },
  {
   "cell_type": "code",
   "execution_count": 4,
   "metadata": {},
   "outputs": [],
   "source": [
    "circuit = stim.Circuit.generated(\n",
    "                \"repetition_code:memory\",\n",
    "                rounds=3,\n",
    "                distance=3,\n",
    "                after_clifford_depolarization=0.01,\n",
    "                after_reset_flip_probability=0.01,\n",
    "                before_measure_flip_probability=0.01,\n",
    "                before_round_data_depolarization=0.01)\n",
    "\n",
    "dem = circuit.detector_error_model(decompose_errors=True)\n",
    "sampler = dem.compile_sampler()\n",
    "syndromes, logical_flips, errors = sampler.sample(shots=2, return_errors=True)\n",
    "\n",
    "syndromes = torch.from_numpy(syndromes).int()\n",
    "syndromes = torch.reshape(syndromes, (len(syndromes), len(syndromes[0]), 1))\n",
    "logical_flips = torch.from_numpy(logical_flips).int()\n",
    "errors = torch.from_numpy(errors).int()\n",
    "\n",
    "matrices = DEM_to_matrices(dem)"
   ]
  },
  {
   "cell_type": "code",
   "execution_count": 7,
   "metadata": {},
   "outputs": [],
   "source": [
    "from ldpc.bposd_decoder import BpOsdDecoder"
   ]
  },
  {
   "cell_type": "code",
   "execution_count": null,
   "metadata": {},
   "outputs": [],
   "source": []
  }
 ],
 "metadata": {
  "kernelspec": {
   "display_name": ".venv",
   "language": "python",
   "name": "python3"
  },
  "language_info": {
   "codemirror_mode": {
    "name": "ipython",
    "version": 3
   },
   "file_extension": ".py",
   "mimetype": "text/x-python",
   "name": "python",
   "nbconvert_exporter": "python",
   "pygments_lexer": "ipython3",
   "version": "3.12.3"
  }
 },
 "nbformat": 4,
 "nbformat_minor": 2
}
